{
 "cells": [
  {
   "cell_type": "markdown",
   "metadata": {},
   "source": [
    "## Final Project Submission\n",
    "\n",
    "Please fill out:\n",
    "* Student name: Vivian Kwamboka\n",
    "* Student pace: full time\n",
    "* Scheduled project review date/time: 6/6/2025\n",
    "* Instructor name: Samuel Karu\n",
    "* Blog post URL:\n"
   ]
  },
  {
   "cell_type": "markdown",
   "metadata": {},
   "source": [
    "### Business Understanding\n",
    "#### The Business Problem\n",
    "SyriaTel, a telecommunications company, is losing customers — they are churning (i.e., canceling service). This leads to loss of revenue, higher customer acquisition costs, and brand damage.\n",
    "- Key business question:\n",
    "Can we predict which customers area at high risk of churning,so we can take action before they leave?"
   ]
  },
  {
   "cell_type": "markdown",
   "metadata": {},
   "source": [
    "#### Business Objective\n",
    "Reduce churn rate by:\n",
    "- Identifying patterns in customer behavior\n",
    "- Predicting customers likely to churn before it happens\n",
    "- Enabling the business to act(e.g, offer discounts, improve service,launch campaigns)\n"
   ]
  },
  {
   "cell_type": "markdown",
   "metadata": {},
   "source": [
    "#### Business Use Case\n",
    "If we can predict churn, SyriaTel can:\n",
    "- Proactively reach out to at_risk customers with retention offers\n",
    "- Segment customers for better service targeting\n",
    "- Improve customer experience by identifying pain points(e.g, high call charges, poor support)\n",
    "##### Example Insight:\n",
    "If customers without a voice mail plan and high imternational call charges are more likely to churn, SyriaTel can offer them a better plan or discount."
   ]
  },
  {
   "cell_type": "markdown",
   "metadata": {},
   "source": [
    "### Data Understanding\n",
    "I will be using the SyriaTel customer dataset, modeling the **churn** based on all other numeric features of the dataset.The target variable churn (1 = customer left, 0 = customer stayed)\n"
   ]
  },
  {
   "cell_type": "code",
   "execution_count": 31,
   "metadata": {},
   "outputs": [],
   "source": [
    "# Import necessary libraries for data handling, visualization, modeling, and evaluation:\n",
    "import pandas as pd\n",
    "import numpy as np\n",
    "import matplotlib.pyplot as plt\n",
    "import seaborn as sns\n",
    "from sklearn.model_selection import train_test_split\n",
    "from sklearn.preprocessing import LabelEncoder, StandardScaler\n",
    "from sklearn.linear_model import LogisticRegression\n",
    "from sklearn.metrics import confusion_matrix, classification_report, roc_auc_score, roc_curve\n",
    "from sklearn.naive_bayes import GaussianNB\n",
    "from imblearn.over_sampling import SMOTE\n"
   ]
  },
  {
   "cell_type": "code",
   "execution_count": 32,
   "metadata": {},
   "outputs": [
    {
     "data": {
      "text/html": [
       "<div>\n",
       "<style scoped>\n",
       "    .dataframe tbody tr th:only-of-type {\n",
       "        vertical-align: middle;\n",
       "    }\n",
       "\n",
       "    .dataframe tbody tr th {\n",
       "        vertical-align: top;\n",
       "    }\n",
       "\n",
       "    .dataframe thead th {\n",
       "        text-align: right;\n",
       "    }\n",
       "</style>\n",
       "<table border=\"1\" class=\"dataframe\">\n",
       "  <thead>\n",
       "    <tr style=\"text-align: right;\">\n",
       "      <th></th>\n",
       "      <th>state</th>\n",
       "      <th>account length</th>\n",
       "      <th>area code</th>\n",
       "      <th>phone number</th>\n",
       "      <th>international plan</th>\n",
       "      <th>voice mail plan</th>\n",
       "      <th>number vmail messages</th>\n",
       "      <th>total day minutes</th>\n",
       "      <th>total day calls</th>\n",
       "      <th>total day charge</th>\n",
       "      <th>...</th>\n",
       "      <th>total eve calls</th>\n",
       "      <th>total eve charge</th>\n",
       "      <th>total night minutes</th>\n",
       "      <th>total night calls</th>\n",
       "      <th>total night charge</th>\n",
       "      <th>total intl minutes</th>\n",
       "      <th>total intl calls</th>\n",
       "      <th>total intl charge</th>\n",
       "      <th>customer service calls</th>\n",
       "      <th>churn</th>\n",
       "    </tr>\n",
       "  </thead>\n",
       "  <tbody>\n",
       "    <tr>\n",
       "      <th>0</th>\n",
       "      <td>KS</td>\n",
       "      <td>128</td>\n",
       "      <td>415</td>\n",
       "      <td>382-4657</td>\n",
       "      <td>no</td>\n",
       "      <td>yes</td>\n",
       "      <td>25</td>\n",
       "      <td>265.1</td>\n",
       "      <td>110</td>\n",
       "      <td>45.07</td>\n",
       "      <td>...</td>\n",
       "      <td>99</td>\n",
       "      <td>16.78</td>\n",
       "      <td>244.7</td>\n",
       "      <td>91</td>\n",
       "      <td>11.01</td>\n",
       "      <td>10.0</td>\n",
       "      <td>3</td>\n",
       "      <td>2.70</td>\n",
       "      <td>1</td>\n",
       "      <td>False</td>\n",
       "    </tr>\n",
       "    <tr>\n",
       "      <th>1</th>\n",
       "      <td>OH</td>\n",
       "      <td>107</td>\n",
       "      <td>415</td>\n",
       "      <td>371-7191</td>\n",
       "      <td>no</td>\n",
       "      <td>yes</td>\n",
       "      <td>26</td>\n",
       "      <td>161.6</td>\n",
       "      <td>123</td>\n",
       "      <td>27.47</td>\n",
       "      <td>...</td>\n",
       "      <td>103</td>\n",
       "      <td>16.62</td>\n",
       "      <td>254.4</td>\n",
       "      <td>103</td>\n",
       "      <td>11.45</td>\n",
       "      <td>13.7</td>\n",
       "      <td>3</td>\n",
       "      <td>3.70</td>\n",
       "      <td>1</td>\n",
       "      <td>False</td>\n",
       "    </tr>\n",
       "    <tr>\n",
       "      <th>2</th>\n",
       "      <td>NJ</td>\n",
       "      <td>137</td>\n",
       "      <td>415</td>\n",
       "      <td>358-1921</td>\n",
       "      <td>no</td>\n",
       "      <td>no</td>\n",
       "      <td>0</td>\n",
       "      <td>243.4</td>\n",
       "      <td>114</td>\n",
       "      <td>41.38</td>\n",
       "      <td>...</td>\n",
       "      <td>110</td>\n",
       "      <td>10.30</td>\n",
       "      <td>162.6</td>\n",
       "      <td>104</td>\n",
       "      <td>7.32</td>\n",
       "      <td>12.2</td>\n",
       "      <td>5</td>\n",
       "      <td>3.29</td>\n",
       "      <td>0</td>\n",
       "      <td>False</td>\n",
       "    </tr>\n",
       "    <tr>\n",
       "      <th>3</th>\n",
       "      <td>OH</td>\n",
       "      <td>84</td>\n",
       "      <td>408</td>\n",
       "      <td>375-9999</td>\n",
       "      <td>yes</td>\n",
       "      <td>no</td>\n",
       "      <td>0</td>\n",
       "      <td>299.4</td>\n",
       "      <td>71</td>\n",
       "      <td>50.90</td>\n",
       "      <td>...</td>\n",
       "      <td>88</td>\n",
       "      <td>5.26</td>\n",
       "      <td>196.9</td>\n",
       "      <td>89</td>\n",
       "      <td>8.86</td>\n",
       "      <td>6.6</td>\n",
       "      <td>7</td>\n",
       "      <td>1.78</td>\n",
       "      <td>2</td>\n",
       "      <td>False</td>\n",
       "    </tr>\n",
       "    <tr>\n",
       "      <th>4</th>\n",
       "      <td>OK</td>\n",
       "      <td>75</td>\n",
       "      <td>415</td>\n",
       "      <td>330-6626</td>\n",
       "      <td>yes</td>\n",
       "      <td>no</td>\n",
       "      <td>0</td>\n",
       "      <td>166.7</td>\n",
       "      <td>113</td>\n",
       "      <td>28.34</td>\n",
       "      <td>...</td>\n",
       "      <td>122</td>\n",
       "      <td>12.61</td>\n",
       "      <td>186.9</td>\n",
       "      <td>121</td>\n",
       "      <td>8.41</td>\n",
       "      <td>10.1</td>\n",
       "      <td>3</td>\n",
       "      <td>2.73</td>\n",
       "      <td>3</td>\n",
       "      <td>False</td>\n",
       "    </tr>\n",
       "  </tbody>\n",
       "</table>\n",
       "<p>5 rows × 21 columns</p>\n",
       "</div>"
      ],
      "text/plain": [
       "  state  account length  area code phone number international plan  \\\n",
       "0    KS             128        415     382-4657                 no   \n",
       "1    OH             107        415     371-7191                 no   \n",
       "2    NJ             137        415     358-1921                 no   \n",
       "3    OH              84        408     375-9999                yes   \n",
       "4    OK              75        415     330-6626                yes   \n",
       "\n",
       "  voice mail plan  number vmail messages  total day minutes  total day calls  \\\n",
       "0             yes                     25              265.1              110   \n",
       "1             yes                     26              161.6              123   \n",
       "2              no                      0              243.4              114   \n",
       "3              no                      0              299.4               71   \n",
       "4              no                      0              166.7              113   \n",
       "\n",
       "   total day charge  ...  total eve calls  total eve charge  \\\n",
       "0             45.07  ...               99             16.78   \n",
       "1             27.47  ...              103             16.62   \n",
       "2             41.38  ...              110             10.30   \n",
       "3             50.90  ...               88              5.26   \n",
       "4             28.34  ...              122             12.61   \n",
       "\n",
       "   total night minutes  total night calls  total night charge  \\\n",
       "0                244.7                 91               11.01   \n",
       "1                254.4                103               11.45   \n",
       "2                162.6                104                7.32   \n",
       "3                196.9                 89                8.86   \n",
       "4                186.9                121                8.41   \n",
       "\n",
       "   total intl minutes  total intl calls  total intl charge  \\\n",
       "0                10.0                 3               2.70   \n",
       "1                13.7                 3               3.70   \n",
       "2                12.2                 5               3.29   \n",
       "3                 6.6                 7               1.78   \n",
       "4                10.1                 3               2.73   \n",
       "\n",
       "   customer service calls  churn  \n",
       "0                       1  False  \n",
       "1                       1  False  \n",
       "2                       0  False  \n",
       "3                       2  False  \n",
       "4                       3  False  \n",
       "\n",
       "[5 rows x 21 columns]"
      ]
     },
     "execution_count": 32,
     "metadata": {},
     "output_type": "execute_result"
    }
   ],
   "source": [
    "# Load the dataset and display the first few rows:\n",
    "df = pd.read_csv('TelCustomer_Churn.csv')\n",
    "df.head()"
   ]
  },
  {
   "cell_type": "code",
   "execution_count": 33,
   "metadata": {},
   "outputs": [
    {
     "data": {
      "text/plain": [
       "(3333, 21)"
      ]
     },
     "execution_count": 33,
     "metadata": {},
     "output_type": "execute_result"
    }
   ],
   "source": [
    "# print the shape of the dataset:\n",
    "df.shape"
   ]
  },
  {
   "cell_type": "markdown",
   "metadata": {},
   "source": [
    "#### Data Preperation\n",
    "In this section, I will clean and preprocess the data to ensure it is suitable for modeling. The steps include:\n",
    "- Removing columns with missing or irrelevant values\n",
    "- Encoding categorical variables into numeric format\n",
    "- Converting the target variable to integer type\n",
    "- Splitting the dataset into features and target variable\n",
    "- Dividing the data into training and testing sets\n",
    "\n",
    "These steps help improve model performance and ensure accurate predictions."
   ]
  },
  {
   "cell_type": "code",
   "execution_count": 34,
   "metadata": {},
   "outputs": [
    {
     "data": {
      "text/html": [
       "<div>\n",
       "<style scoped>\n",
       "    .dataframe tbody tr th:only-of-type {\n",
       "        vertical-align: middle;\n",
       "    }\n",
       "\n",
       "    .dataframe tbody tr th {\n",
       "        vertical-align: top;\n",
       "    }\n",
       "\n",
       "    .dataframe thead th {\n",
       "        text-align: right;\n",
       "    }\n",
       "</style>\n",
       "<table border=\"1\" class=\"dataframe\">\n",
       "  <thead>\n",
       "    <tr style=\"text-align: right;\">\n",
       "      <th></th>\n",
       "      <th>state</th>\n",
       "      <th>account length</th>\n",
       "      <th>area code</th>\n",
       "      <th>phone number</th>\n",
       "      <th>international plan</th>\n",
       "      <th>voice mail plan</th>\n",
       "      <th>number vmail messages</th>\n",
       "      <th>total day minutes</th>\n",
       "      <th>total day calls</th>\n",
       "      <th>total day charge</th>\n",
       "      <th>...</th>\n",
       "      <th>total eve calls</th>\n",
       "      <th>total eve charge</th>\n",
       "      <th>total night minutes</th>\n",
       "      <th>total night calls</th>\n",
       "      <th>total night charge</th>\n",
       "      <th>total intl minutes</th>\n",
       "      <th>total intl calls</th>\n",
       "      <th>total intl charge</th>\n",
       "      <th>customer service calls</th>\n",
       "      <th>churn</th>\n",
       "    </tr>\n",
       "  </thead>\n",
       "  <tbody>\n",
       "    <tr>\n",
       "      <th>0</th>\n",
       "      <td>KS</td>\n",
       "      <td>128</td>\n",
       "      <td>415</td>\n",
       "      <td>382-4657</td>\n",
       "      <td>no</td>\n",
       "      <td>yes</td>\n",
       "      <td>25</td>\n",
       "      <td>265.1</td>\n",
       "      <td>110</td>\n",
       "      <td>45.07</td>\n",
       "      <td>...</td>\n",
       "      <td>99</td>\n",
       "      <td>16.78</td>\n",
       "      <td>244.7</td>\n",
       "      <td>91</td>\n",
       "      <td>11.01</td>\n",
       "      <td>10.0</td>\n",
       "      <td>3</td>\n",
       "      <td>2.70</td>\n",
       "      <td>1</td>\n",
       "      <td>False</td>\n",
       "    </tr>\n",
       "    <tr>\n",
       "      <th>1</th>\n",
       "      <td>OH</td>\n",
       "      <td>107</td>\n",
       "      <td>415</td>\n",
       "      <td>371-7191</td>\n",
       "      <td>no</td>\n",
       "      <td>yes</td>\n",
       "      <td>26</td>\n",
       "      <td>161.6</td>\n",
       "      <td>123</td>\n",
       "      <td>27.47</td>\n",
       "      <td>...</td>\n",
       "      <td>103</td>\n",
       "      <td>16.62</td>\n",
       "      <td>254.4</td>\n",
       "      <td>103</td>\n",
       "      <td>11.45</td>\n",
       "      <td>13.7</td>\n",
       "      <td>3</td>\n",
       "      <td>3.70</td>\n",
       "      <td>1</td>\n",
       "      <td>False</td>\n",
       "    </tr>\n",
       "    <tr>\n",
       "      <th>2</th>\n",
       "      <td>NJ</td>\n",
       "      <td>137</td>\n",
       "      <td>415</td>\n",
       "      <td>358-1921</td>\n",
       "      <td>no</td>\n",
       "      <td>no</td>\n",
       "      <td>0</td>\n",
       "      <td>243.4</td>\n",
       "      <td>114</td>\n",
       "      <td>41.38</td>\n",
       "      <td>...</td>\n",
       "      <td>110</td>\n",
       "      <td>10.30</td>\n",
       "      <td>162.6</td>\n",
       "      <td>104</td>\n",
       "      <td>7.32</td>\n",
       "      <td>12.2</td>\n",
       "      <td>5</td>\n",
       "      <td>3.29</td>\n",
       "      <td>0</td>\n",
       "      <td>False</td>\n",
       "    </tr>\n",
       "    <tr>\n",
       "      <th>3</th>\n",
       "      <td>OH</td>\n",
       "      <td>84</td>\n",
       "      <td>408</td>\n",
       "      <td>375-9999</td>\n",
       "      <td>yes</td>\n",
       "      <td>no</td>\n",
       "      <td>0</td>\n",
       "      <td>299.4</td>\n",
       "      <td>71</td>\n",
       "      <td>50.90</td>\n",
       "      <td>...</td>\n",
       "      <td>88</td>\n",
       "      <td>5.26</td>\n",
       "      <td>196.9</td>\n",
       "      <td>89</td>\n",
       "      <td>8.86</td>\n",
       "      <td>6.6</td>\n",
       "      <td>7</td>\n",
       "      <td>1.78</td>\n",
       "      <td>2</td>\n",
       "      <td>False</td>\n",
       "    </tr>\n",
       "    <tr>\n",
       "      <th>4</th>\n",
       "      <td>OK</td>\n",
       "      <td>75</td>\n",
       "      <td>415</td>\n",
       "      <td>330-6626</td>\n",
       "      <td>yes</td>\n",
       "      <td>no</td>\n",
       "      <td>0</td>\n",
       "      <td>166.7</td>\n",
       "      <td>113</td>\n",
       "      <td>28.34</td>\n",
       "      <td>...</td>\n",
       "      <td>122</td>\n",
       "      <td>12.61</td>\n",
       "      <td>186.9</td>\n",
       "      <td>121</td>\n",
       "      <td>8.41</td>\n",
       "      <td>10.1</td>\n",
       "      <td>3</td>\n",
       "      <td>2.73</td>\n",
       "      <td>3</td>\n",
       "      <td>False</td>\n",
       "    </tr>\n",
       "  </tbody>\n",
       "</table>\n",
       "<p>5 rows × 21 columns</p>\n",
       "</div>"
      ],
      "text/plain": [
       "  state  account length  area code phone number international plan  \\\n",
       "0    KS             128        415     382-4657                 no   \n",
       "1    OH             107        415     371-7191                 no   \n",
       "2    NJ             137        415     358-1921                 no   \n",
       "3    OH              84        408     375-9999                yes   \n",
       "4    OK              75        415     330-6626                yes   \n",
       "\n",
       "  voice mail plan  number vmail messages  total day minutes  total day calls  \\\n",
       "0             yes                     25              265.1              110   \n",
       "1             yes                     26              161.6              123   \n",
       "2              no                      0              243.4              114   \n",
       "3              no                      0              299.4               71   \n",
       "4              no                      0              166.7              113   \n",
       "\n",
       "   total day charge  ...  total eve calls  total eve charge  \\\n",
       "0             45.07  ...               99             16.78   \n",
       "1             27.47  ...              103             16.62   \n",
       "2             41.38  ...              110             10.30   \n",
       "3             50.90  ...               88              5.26   \n",
       "4             28.34  ...              122             12.61   \n",
       "\n",
       "   total night minutes  total night calls  total night charge  \\\n",
       "0                244.7                 91               11.01   \n",
       "1                254.4                103               11.45   \n",
       "2                162.6                104                7.32   \n",
       "3                196.9                 89                8.86   \n",
       "4                186.9                121                8.41   \n",
       "\n",
       "   total intl minutes  total intl calls  total intl charge  \\\n",
       "0                10.0                 3               2.70   \n",
       "1                13.7                 3               3.70   \n",
       "2                12.2                 5               3.29   \n",
       "3                 6.6                 7               1.78   \n",
       "4                10.1                 3               2.73   \n",
       "\n",
       "   customer service calls  churn  \n",
       "0                       1  False  \n",
       "1                       1  False  \n",
       "2                       0  False  \n",
       "3                       2  False  \n",
       "4                       3  False  \n",
       "\n",
       "[5 rows x 21 columns]"
      ]
     },
     "execution_count": 34,
     "metadata": {},
     "output_type": "execute_result"
    }
   ],
   "source": [
    "# Data Cleaning\n",
    "# Keep only columns with no missing values\n",
    "df = df.dropna(axis=1, how='any')\n",
    "df.head()"
   ]
  },
  {
   "cell_type": "code",
   "execution_count": 35,
   "metadata": {},
   "outputs": [],
   "source": [
    "# Drop irrelevant columns\n",
    "df = df.drop(columns=['phone number', 'state'])"
   ]
  },
  {
   "cell_type": "code",
   "execution_count": 36,
   "metadata": {},
   "outputs": [
    {
     "name": "stdout",
     "output_type": "stream",
     "text": [
      "International Plan Encoded Values: [0 1]\n",
      "Voice Mail Plan Encoded Values: [1 0]\n"
     ]
    }
   ],
   "source": [
    "# Encode categorical variables with Label Encoder and display unique values:\n",
    "le = LabelEncoder()\n",
    "df['international plan'] = le.fit_transform(df['international plan'])\n",
    "df['voice mail plan'] = le.fit_transform(df['voice mail plan'])\n",
    "# print the values of the encoded columns\n",
    "print(\"International Plan Encoded Values:\", df['international plan'].unique())\n",
    "print(\"Voice Mail Plan Encoded Values:\", df['voice mail plan'].unique())"
   ]
  },
  {
   "cell_type": "code",
   "execution_count": 37,
   "metadata": {},
   "outputs": [],
   "source": [
    "# convert the target variable 'churn' to integers\n",
    "df['churn'] = df['churn'].astype(int)\n"
   ]
  },
  {
   "cell_type": "code",
   "execution_count": 38,
   "metadata": {},
   "outputs": [],
   "source": [
    "# Split the dataset into features and target variable\n",
    "X = df.drop(columns=['churn'], axis=1)\n",
    "y = df['churn']"
   ]
  },
  {
   "cell_type": "markdown",
   "metadata": {},
   "source": [
    "#### Modelling\n",
    "I will apply the Logistic Regression predictive model as it is simple and interpretable model suitable for binary classification.\n",
    "\n",
    " I will also perform a train-test split(80% training, 20% test)so that i will be fitting the model using the training dataset and evaluating the model using the testing dataset.\n",
    "\n",
    "The performance will be evaluated using:\n",
    "- Accuracy\n",
    "- Precision, Recall, F1-Score\n",
    "- Confusion Matrix\n",
    "- ROC AUC Score\n",
    "- ROC Curve"
   ]
  },
  {
   "cell_type": "code",
   "execution_count": 39,
   "metadata": {},
   "outputs": [],
   "source": [
    "# Feature scaling (Important for convergence in logistic regression)\n",
    "scaler = StandardScaler()\n",
    "X_scaled = scaler.fit_transform(X)"
   ]
  },
  {
   "cell_type": "code",
   "execution_count": 40,
   "metadata": {},
   "outputs": [],
   "source": [
    "# Split the dataset into training and testing sets using train_test_split():\n",
    "X_train, X_test, y_train, y_test = train_test_split(X, y, test_size=0.2, random_state=42)"
   ]
  },
  {
   "cell_type": "code",
   "execution_count": 41,
   "metadata": {},
   "outputs": [
    {
     "data": {
      "text/plain": [
       "LogisticRegression(max_iter=5000, solver='liblinear')"
      ]
     },
     "execution_count": 41,
     "metadata": {},
     "output_type": "execute_result"
    }
   ],
   "source": [
    "# Train a logistic regression model\n",
    "model = LogisticRegression(max_iter=5000, solver='liblinear')\n",
    "model.fit(X_train, y_train)"
   ]
  },
  {
   "cell_type": "code",
   "execution_count": 42,
   "metadata": {},
   "outputs": [
    {
     "name": "stdout",
     "output_type": "stream",
     "text": [
      "Logistic Regression Model Evaluation with SMOTE\n",
      "classification_report:\n",
      "               precision    recall  f1-score   support\n",
      "\n",
      "           0       0.86      0.98      0.92       566\n",
      "           1       0.57      0.12      0.20       101\n",
      "\n",
      "    accuracy                           0.85       667\n",
      "   macro avg       0.72      0.55      0.56       667\n",
      "weighted avg       0.82      0.85      0.81       667\n",
      "\n",
      "confusion_matrix:\n",
      " [[557   9]\n",
      " [ 89  12]]\n",
      "ROC AUC Score: 0.8231116397858866\n"
     ]
    }
   ],
   "source": [
    "# Make predictions on the test set and calculate probabilities:\n",
    "y_pred= model.predict(X_test)\n",
    "y_proba = model.predict_proba(X_test)[:, 1]\n",
    "# Evaluate the model\n",
    "print('Logistic Regression Model Evaluation with SMOTE')\n",
    "print('classification_report:\\n', classification_report(y_test, y_pred))\n",
    "print('confusion_matrix:\\n', confusion_matrix(y_test, y_pred))\n",
    "# Calculate ROC AUC score\n",
    "roc_auc = roc_auc_score(y_test, y_proba)\n",
    "print('ROC AUC Score:', roc_auc)"
   ]
  },
  {
   "cell_type": "code",
   "execution_count": 43,
   "metadata": {},
   "outputs": [
    {
     "data": {
      "image/png": "[encoded data removed]",
      "text/plain": [
       "<Figure size 800x600 with 1 Axes>"
      ]
     },
     "metadata": {},
     "output_type": "display_data"
    }
   ],
   "source": [
    "# Plot ROC curve\n",
    "fpr, tpr, thresholds = roc_curve(y_test, y_proba)\n",
    "plt.figure(figsize=(8, 6))\n",
    "plt.plot(fpr, tpr, color='green', label='ROC Curve (area = :%.2f)' % roc_auc)\n",
    "plt.plot([0, 1], [0, 1], color='red', linestyle='--')\n",
    "plt.xlim([0.0, 1.0])\n",
    "plt.ylim([0.0, 1.05])\n",
    "plt.xlabel('False Positive Rate')\n",
    "plt.ylabel('True Positive Rate')\n",
    "plt.title('Receiver Operating Characteristic Curve')\n",
    "plt.grid(True)\n",
    "plt.legend(loc=\"lower right\")\n",
    "plt.tight_layout()\n",
    "plt.show()"
   ]
  },
  {
   "cell_type": "markdown",
   "metadata": {},
   "source": [
    "#### Evaluation Summary\n",
    "**Precision** for class **1** is 0.57 meaning that 57% of the predicted churns were correct which isn't bad, but many false positives also existed.\n",
    "\n",
    " **Recall** for class **1** is 0.12 which means that the model caught 12% of actual churners ,missing most of them.\n",
    "\n",
    "The **F1 Score** of 0.20 is too low probably because of the poor Recall\n",
    "\n",
    " **Confusion Matrix**\n",
    "- True Negatives = 557 (correctly predicted stay)\n",
    "- False Positives = 9 (predicted churn, actually stayed)\n",
    "- False Negatives = 89 (missed churners)\n",
    "- True Positives = 12 (correctly predicted churn)\n",
    "\n",
    " So the model does well at predicting those who won't churn but poorly at catching who will.\n",
    "\n",
    "**Accuracy**\n",
    "Overall correct predictions is 85% but this is misleading since the dataset is imbalanced(most people stay)"
   ]
  },
  {
   "cell_type": "markdown",
   "metadata": {
    "vscode": {
     "languageId": "markdown"
    }
   },
   "source": [
    "#### Improving Recall with SMOTE\n",
    "\n",
    "The initial logistic regression model showed low recall for the minority class (churners), meaning it missed many actual churn cases. This is often due to class imbalance, where the number of non-churners greatly exceeds churners\n",
    "\n",
    "To address this, we can use **SMOTE** (Synthetic Minority Over-sampling Technique), which generates synthetic samples for the minority class in the training data. By balancing the classes, SMOTE helps the model better learn patterns associated with churners, potentially improving recall.\n",
    "\n",
    "**Steps:**\n",
    "- Apply SMOTE to the training set to create a balanced dataset.\n",
    "- Retrain the model on the resampled data.\n",
    "- Evaluate recall and other metrics to check for improvement.\n",
    "\n",
    "SMOTE is a powerful technique for imbalanced classification problems, especially when the goal is to identify as many positive cases (churners) as possible."
   ]
  },
  {
   "cell_type": "code",
   "execution_count": 44,
   "metadata": {},
   "outputs": [],
   "source": [
    "# Apply SMOTE to handle class imbalance\n",
    "smote = SMOTE(random_state=42)\n",
    "X_resampled, y_resampled = smote.fit_resample(X_train, y_train)"
   ]
  },
  {
   "cell_type": "code",
   "execution_count": 45,
   "metadata": {},
   "outputs": [
    {
     "name": "stdout",
     "output_type": "stream",
     "text": [
      "Logistic Regression Model Evaluation with SMOTE\n",
      "classification_report:\n",
      "               precision    recall  f1-score   support\n",
      "\n",
      "           0       0.93      0.73      0.82       566\n",
      "           1       0.32      0.71      0.44       101\n",
      "\n",
      "    accuracy                           0.73       667\n",
      "   macro avg       0.63      0.72      0.63       667\n",
      "weighted avg       0.84      0.73      0.76       667\n",
      "\n",
      "confusion_matrix:\n",
      " [[413 153]\n",
      " [ 29  72]]\n",
      "ROC AUC Score: 0.805093936955533\n"
     ]
    }
   ],
   "source": [
    "# Logistic Regression with SMOTE\n",
    "model_smote = LogisticRegression(max_iter=5000, solver='liblinear')\n",
    "model_smote.fit(X_resampled, y_resampled)\n",
    "# Make predictions on the test set with SMOTE\n",
    "y_pred_smote = model_smote.predict(X_test)\n",
    "y_proba_smote = model_smote.predict_proba(X_test)[:, 1]\n",
    "# Evaluate the model with SMOTE\n",
    "print('Logistic Regression Model Evaluation with SMOTE')\n",
    "print('classification_report:\\n', classification_report(y_test, y_pred_smote))\n",
    "print('confusion_matrix:\\n', confusion_matrix(y_test, y_pred_smote))\n",
    "# Calculate ROC AUC score\n",
    "roc_auc_smote = roc_auc_score(y_test, y_proba_smote)\n",
    "print('ROC AUC Score:', roc_auc_smote)"
   ]
  },
  {
   "cell_type": "markdown",
   "metadata": {},
   "source": [
    "#### Why Use Naive Bayes with SMOTE?\n",
    "\n",
    "Naive Bayes is a simple yet effective classification algorithm, especially suitable for high-dimensional datasets and when features are (mostly) independent. However, like many classifiers, its performance can be significantly affected by class imbalance—when one class (such as \"churn\") is much less frequent than the other.\n",
    "\n",
    "**SMOTE** (Synthetic Minority Over-sampling Technique) addresses this issue by generating synthetic samples for the minority class, balancing the dataset. By combining Naive Bayes with SMOTE, we can:\n",
    "\n",
    "- Provide the Naive Bayes model with a more balanced training set, helping it better learn the characteristics of the minority class (churners).\n",
    "- Improve recall and F1-score for the minority class, making the model more effective at identifying customers likely to churn.\n",
    "- Reduce bias toward the majority class, leading to more reliable predictions.\n",
    "\n",
    "This approach is particularly useful when the business goal is to identify as many churners as possible, even at the cost of some false positives."
   ]
  },
  {
   "cell_type": "code",
   "execution_count": 46,
   "metadata": {},
   "outputs": [
    {
     "name": "stdout",
     "output_type": "stream",
     "text": [
      "Naive Bayes Model Evaluation with SMOTE\n",
      "classification_report:\n",
      "               precision    recall  f1-score   support\n",
      "\n",
      "           0       0.94      0.65      0.77       566\n",
      "           1       0.28      0.76      0.41       101\n",
      "\n",
      "    accuracy                           0.66       667\n",
      "   macro avg       0.61      0.70      0.59       667\n",
      "weighted avg       0.84      0.66      0.71       667\n",
      "\n",
      "confusion_matrix:\n",
      " [[366 200]\n",
      " [ 24  77]]\n",
      "ROC AUC Score: 0.7771227652800615\n"
     ]
    }
   ],
   "source": [
    "# Naive Bayes with SMOTE\n",
    "model_nb = GaussianNB()\n",
    "# Fit the model on the resampled data\n",
    "model_nb.fit(X_resampled, y_resampled)\n",
    "# Make predictions on the test set with Naive Bayes\n",
    "y_pred_nb = model_nb.predict(X_test)\n",
    "y_proba_nb = model_nb.predict_proba(X_test)[:, 1]\n",
    "# Evaluate the Naive Bayes model\n",
    "print('Naive Bayes Model Evaluation with SMOTE')\n",
    "print('classification_report:\\n', classification_report(y_test, y_pred_nb))\n",
    "print('confusion_matrix:\\n', confusion_matrix(y_test, y_pred_nb))\n",
    "# Calculate ROC AUC score for Naive Bayes\n",
    "roc_auc_nb = roc_auc_score(y_test, y_proba_nb)\n",
    "print('ROC AUC Score:', roc_auc_nb)"
   ]
  },
  {
   "cell_type": "code",
   "execution_count": 47,
   "metadata": {},
   "outputs": [
    {
     "data": {
      "image/png": "[encoded data removed]",
      "text/plain": [
       "<Figure size 1000x800 with 1 Axes>"
      ]
     },
     "metadata": {},
     "output_type": "display_data"
    }
   ],
   "source": [
    "# Plot ROC Curve for all models\n",
    "fpr, tpr, _ = roc_curve(y_test, y_proba)\n",
    "fpr_smote, tpr_smote, _ = roc_curve(y_test, y_proba_smote)\n",
    "fpr_nb, tpr_nb, _ = roc_curve(y_test, y_proba_nb)\n",
    "\n",
    "plt.figure(figsize=(10, 8))\n",
    "plt.plot(fpr, tpr, color='blue', label='Logistic Regression(No SMOTE) (AUC = %.2f)' % roc_auc)\n",
    "plt.plot(fpr_smote, tpr_smote, color='green', label='Logistic Regression(SMOTE) (AUC = %.2f)' % roc_auc_smote)\n",
    "plt.plot(fpr_nb, tpr_nb, color='red', label='Naive Bayes(SMOTE) (AUC = %.2f)' % roc_auc_nb)\n",
    "plt.plot([0, 1], [0, 1], color='black', linestyle='--')\n",
    "plt.xlim([0.0, 1.0])\n",
    "plt.ylim([0.0, 1.05])\n",
    "plt.xlabel('False Positive Rate')\n",
    "plt.ylabel('True Positive Rate')\n",
    "plt.title('ROC Curve Comparison')\n",
    "plt.legend(loc='lower right')\n",
    "plt.grid(True)\n",
    "plt.tight_layout()\n",
    "plt.show()\n"
   ]
  },
  {
   "cell_type": "markdown",
   "metadata": {},
   "source": [
    "#### Hyperparameter Tuning for Logistic Regression\n",
    "we'll use **GridSearchCV** to try different hyperparameters."
   ]
  },
  {
   "cell_type": "code",
   "execution_count": 48,
   "metadata": {},
   "outputs": [
    {
     "name": "stdout",
     "output_type": "stream",
     "text": [
      "Best Logistic Regression Parameters: {'C': 0.1, 'penalty': 'l1', 'solver': 'liblinear'}\n",
      "Confusion Matrix:\n",
      " [[418 148]\n",
      " [ 29  72]]\n",
      "Classification Report:\n",
      "               precision    recall  f1-score   support\n",
      "\n",
      "           0       0.94      0.74      0.83       566\n",
      "           1       0.33      0.71      0.45       101\n",
      "\n",
      "    accuracy                           0.73       667\n",
      "   macro avg       0.63      0.73      0.64       667\n",
      "weighted avg       0.84      0.73      0.77       667\n",
      "\n",
      "ROC AUC Score: 0.8006157506209984\n"
     ]
    }
   ],
   "source": [
    "# apply grid search for hyperparameter tuning\n",
    "from sklearn.model_selection import GridSearchCV\n",
    "\n",
    "# Define parameter grid\n",
    "param_grid = {\n",
    "    'C': [0.01, 0.1, 1, 10],\n",
    "    'penalty': ['l1', 'l2'],\n",
    "    'solver': ['liblinear', 'saga']\n",
    "}\n",
    "\n",
    "# Initialize logistic regression\n",
    "logreg = LogisticRegression(max_iter=5000)\n",
    "\n",
    "# Grid Search with 5-fold cross-validation\n",
    "grid_search = GridSearchCV(logreg, param_grid, scoring='recall', cv=5, n_jobs=-1)\n",
    "grid_search.fit(X_resampled, y_resampled)\n",
    "\n",
    "# Best model\n",
    "best_logreg = grid_search.best_estimator_\n",
    "y_pred_best = best_logreg.predict(X_test)\n",
    "y_proba_best = best_logreg.predict_proba(X_test)[:, 1]\n",
    "\n",
    "# Evaluation\n",
    "print(\"Best Logistic Regression Parameters:\", grid_search.best_params_)\n",
    "print(\"Confusion Matrix:\\n\", confusion_matrix(y_test, y_pred_best))\n",
    "print(\"Classification Report:\\n\", classification_report(y_test, y_pred_best))\n",
    "print(\"ROC AUC Score:\", roc_auc_score(y_test, y_proba_best))\n"
   ]
  },
  {
   "cell_type": "markdown",
   "metadata": {},
   "source": [
    "#### Why Use Threshold Adjustment?\n",
    "\n",
    "In classification problems, models typically use a default probability threshold of 0.5 to decide between classes. However, this may not provide the best balance between **precision** (how many predicted churns are correct) and **recall** (how many actual churners are identified), especially with imbalanced datasets.\n",
    "\n",
    "By adjusting the decision threshold, we can:\n",
    "- Increase recall (catch more churners) at the expense of precision, or vice versa, depending on business needs.\n",
    "- Find an optimal trade-off that aligns with business goals, such as minimizing false negatives (missed churners) or false positives (incorrectly flagged churners).\n",
    "- Improve the F1-score, which balances both precision and recall.\n",
    "\n",
    "Threshold tuning is especially useful when the cost of missing a churner is much higher than incorrectly predicting churn, allowing for more effective and actionable predictions."
   ]
  },
  {
   "cell_type": "code",
   "execution_count": 49,
   "metadata": {},
   "outputs": [
    {
     "name": "stdout",
     "output_type": "stream",
     "text": [
      "Best Threshold: 0.66\n",
      "F1-Score at Best Threshold: 0.52\n",
      "Classification Report (adjusted threshold):\n",
      "              precision    recall  f1-score   support\n",
      "\n",
      "           0       0.92      0.90      0.91       566\n",
      "           1       0.49      0.55      0.52       101\n",
      "\n",
      "    accuracy                           0.85       667\n",
      "   macro avg       0.70      0.73      0.71       667\n",
      "weighted avg       0.85      0.85      0.85       667\n",
      "\n",
      "Confusion Matrix:\n",
      "[[508  58]\n",
      " [ 45  56]]\n",
      "ROC AUC Score (adjusted threshold): 0.8006157506209984\n"
     ]
    }
   ],
   "source": [
    "# Threshhold tuning to balance precision and recall\n",
    "from sklearn.metrics import precision_recall_curve, f1_score\n",
    "\n",
    "# Step 1: Predict probabilities\n",
    "y_probs = best_logreg.predict_proba(X_test)[:, 1]  # Get probability for class 1 (churn)\n",
    "\n",
    "# Step 2: Compute precision, recall, thresholds\n",
    "precision, recall, thresholds = precision_recall_curve(y_test, y_probs)\n",
    "\n",
    "# Step 3: Find best threshold by F1-score (or manually inspect)\n",
    "f1_scores = 2 * (precision * recall) / (precision + recall + 1e-8)\n",
    "best_idx = f1_scores.argmax()\n",
    "best_threshold = thresholds[best_idx]\n",
    "\n",
    "print(f\"Best Threshold: {best_threshold:.2f}\")\n",
    "print(f\"F1-Score at Best Threshold: {f1_scores[best_idx]:.2f}\")\n",
    "\n",
    "# Step 4: Use this new threshold for final prediction\n",
    "y_pred_thresholded = (y_probs >= best_threshold).astype(int)\n",
    "\n",
    "# Step 5: Evaluate\n",
    "print(\"Classification Report (adjusted threshold):\")\n",
    "print(classification_report(y_test, y_pred_thresholded))\n",
    "print(\"Confusion Matrix:\")\n",
    "print(confusion_matrix(y_test, y_pred_thresholded))\n",
    "print(\"ROC AUC Score (adjusted threshold):\", roc_auc_score(y_test, y_probs))\n"
   ]
  },
  {
   "cell_type": "code",
   "execution_count": 50,
   "metadata": {},
   "outputs": [
    {
     "data": {
      "text/html": [
       "<div>\n",
       "<style scoped>\n",
       "    .dataframe tbody tr th:only-of-type {\n",
       "        vertical-align: middle;\n",
       "    }\n",
       "\n",
       "    .dataframe tbody tr th {\n",
       "        vertical-align: top;\n",
       "    }\n",
       "\n",
       "    .dataframe thead th {\n",
       "        text-align: right;\n",
       "    }\n",
       "</style>\n",
       "<table border=\"1\" class=\"dataframe\">\n",
       "  <thead>\n",
       "    <tr style=\"text-align: right;\">\n",
       "      <th></th>\n",
       "      <th>customer_id</th>\n",
       "      <th>predicted_churn</th>\n",
       "    </tr>\n",
       "  </thead>\n",
       "  <tbody>\n",
       "    <tr>\n",
       "      <th>0</th>\n",
       "      <td>438</td>\n",
       "      <td>0</td>\n",
       "    </tr>\n",
       "    <tr>\n",
       "      <th>1</th>\n",
       "      <td>2674</td>\n",
       "      <td>0</td>\n",
       "    </tr>\n",
       "    <tr>\n",
       "      <th>2</th>\n",
       "      <td>1345</td>\n",
       "      <td>0</td>\n",
       "    </tr>\n",
       "    <tr>\n",
       "      <th>3</th>\n",
       "      <td>1957</td>\n",
       "      <td>0</td>\n",
       "    </tr>\n",
       "    <tr>\n",
       "      <th>4</th>\n",
       "      <td>2148</td>\n",
       "      <td>0</td>\n",
       "    </tr>\n",
       "  </tbody>\n",
       "</table>\n",
       "</div>"
      ],
      "text/plain": [
       "   customer_id  predicted_churn\n",
       "0          438                0\n",
       "1         2674                0\n",
       "2         1345                0\n",
       "3         1957                0\n",
       "4         2148                0"
      ]
     },
     "execution_count": 50,
     "metadata": {},
     "output_type": "execute_result"
    }
   ],
   "source": [
    "# create submission dataframe\n",
    "predictions = pd.DataFrame({\n",
    "    'customer_id': y_test.index, \n",
    "    'predicted_churn': y_pred_thresholded\n",
    "})\n",
    "# Display the first few rows of the predictions dataframe\n",
    "predictions.head()"
   ]
  },
  {
   "cell_type": "code",
   "execution_count": 51,
   "metadata": {},
   "outputs": [],
   "source": [
    "# Save to CSV\n",
    "predictions.to_csv('customer_churn_predictions.csv', index=False)"
   ]
  }
 ],
 "metadata": {
  "kernelspec": {
   "display_name": "learn-env",
   "language": "python",
   "name": "python3"
  },
  "language_info": {
   "codemirror_mode": {
    "name": "ipython",
    "version": 3
   },
   "file_extension": ".py",
   "mimetype": "text/x-python",
   "name": "python",
   "nbconvert_exporter": "python",
   "pygments_lexer": "ipython3",
   "version": "3.8.12"
  }
 },
 "nbformat": 4,
 "nbformat_minor": 2
}
